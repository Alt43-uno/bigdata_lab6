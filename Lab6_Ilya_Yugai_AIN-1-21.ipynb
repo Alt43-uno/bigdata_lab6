{
 "cells": [
  {
   "cell_type": "markdown",
   "source": [
    "# Лабораторная работа 6 Югай Ильи AIN-1-21"
   ],
   "metadata": {
    "collapsed": false
   }
  },
  {
   "cell_type": "code",
   "execution_count": 4,
   "outputs": [],
   "source": [
    "# Импортируем необходимые библиотеки\n",
    "import pandas as pd\n",
    "import numpy as np\n",
    "import random\n",
    "from sklearn.datasets import load_breast_cancer\n",
    "from sklearn.model_selection import train_test_split, cross_val_score, GridSearchCV\n",
    "from sklearn.metrics import accuracy_score, confusion_matrix, classification_report\n",
    "from sklearn.ensemble import RandomForestClassifier"
   ],
   "metadata": {
    "collapsed": false,
    "ExecuteTime": {
     "end_time": "2023-12-06T05:38:56.388792900Z",
     "start_time": "2023-12-06T05:38:30.196810Z"
    }
   }
  },
  {
   "cell_type": "code",
   "execution_count": 5,
   "outputs": [
    {
     "name": "stdout",
     "output_type": "stream",
     "text": [
      "Accuracy score for iris dataset: 1.0\n",
      "Confusion matrix for iris dataset:\n",
      " [[10  0  0]\n",
      " [ 0  9  0]\n",
      " [ 0  0 11]]\n",
      "Classification report for iris dataset:\n",
      "               precision    recall  f1-score   support\n",
      "\n",
      "           0       1.00      1.00      1.00        10\n",
      "           1       1.00      1.00      1.00         9\n",
      "           2       1.00      1.00      1.00        11\n",
      "\n",
      "    accuracy                           1.00        30\n",
      "   macro avg       1.00      1.00      1.00        30\n",
      "weighted avg       1.00      1.00      1.00        30\n"
     ]
    }
   ],
   "source": [
    "# Задание 1: Изучить материал и примеры, описанные в ходе работы (датасет iris)\n",
    "# Загружаем датасет iris\n",
    "from sklearn.datasets import load_iris\n",
    "iris = load_iris()\n",
    "# Создаем датафрейм с признаками и целевой переменной\n",
    "iris_df = pd.DataFrame(iris.data, columns=iris.feature_names)\n",
    "iris_df['target'] = iris.target\n",
    "# Разделяем датасет на обучающую и тестовую выборки\n",
    "X_train_iris, X_test_iris, y_train_iris, y_test_iris = train_test_split(iris_df.drop('target', axis=1), iris_df['target'], test_size=0.2, random_state=42)\n",
    "# Создаем модель классификатора на основе случайного леса\n",
    "rf_iris = RandomForestClassifier(random_state=42)\n",
    "# Обучаем модель на обучающей выборке\n",
    "rf_iris.fit(X_train_iris, y_train_iris)\n",
    "# Предсказываем классы для тестовой выборки\n",
    "y_pred_iris = rf_iris.predict(X_test_iris)\n",
    "# Оцениваем качество модели с помощью метрик\n",
    "print('Accuracy score for iris dataset:', accuracy_score(y_test_iris, y_pred_iris))\n",
    "print('Confusion matrix for iris dataset:\\n', confusion_matrix(y_test_iris, y_pred_iris))\n",
    "print('Classification report for iris dataset:\\n', classification_report(y_test_iris, y_pred_iris))"
   ],
   "metadata": {
    "collapsed": false,
    "ExecuteTime": {
     "end_time": "2023-12-06T05:38:57.581641600Z",
     "start_time": "2023-12-06T05:38:56.404853900Z"
    }
   }
  },
  {
   "cell_type": "code",
   "execution_count": 6,
   "outputs": [
    {
     "name": "stdout",
     "output_type": "stream",
     "text": [
      "Accuracy score for breast cancer dataset: 0.9649122807017544\n",
      "Confusion matrix for breast cancer dataset:\n",
      " [[40  3]\n",
      " [ 1 70]]\n",
      "Classification report for breast cancer dataset:\n",
      "               precision    recall  f1-score   support\n",
      "\n",
      "           0       0.98      0.93      0.95        43\n",
      "           1       0.96      0.99      0.97        71\n",
      "\n",
      "    accuracy                           0.96       114\n",
      "   macro avg       0.97      0.96      0.96       114\n",
      "weighted avg       0.97      0.96      0.96       114\n",
      "Cross-validation scores for breast cancer dataset: [0.92105263 0.93859649 0.98245614 0.96491228 0.97345133]\n",
      "Best parameters for breast cancer dataset: {'max_depth': None, 'min_samples_split': 2, 'n_estimators': 200}\n",
      "Best score for breast cancer dataset: 0.9626373626373625\n",
      "Accuracy score for breast cancer dataset (optimized): 0.9649122807017544\n",
      "Confusion matrix for breast cancer dataset (optimized):\n",
      " [[40  3]\n",
      " [ 1 70]]\n",
      "Classification report for breast cancer dataset (optimized):\n",
      "               precision    recall  f1-score   support\n",
      "\n",
      "           0       0.98      0.93      0.95        43\n",
      "           1       0.96      0.99      0.97        71\n",
      "\n",
      "    accuracy                           0.96       114\n",
      "   macro avg       0.97      0.96      0.96       114\n",
      "weighted avg       0.97      0.96      0.96       114\n"
     ]
    }
   ],
   "source": [
    "# Задание 2: Используя один из подходящих игрушечных датасетов (breast_canser, digits, diabetes …) применить алгоритмы улучшения качества и оценки моделей (перекрестная проверка, решетчатый поиск, метрики модели)\n",
    "# Загружаем датасет breast_cancer\n",
    "breast_cancer = load_breast_cancer()\n",
    "# Создаем датафрейм с признаками и целевой переменной\n",
    "breast_cancer_df = pd.DataFrame(breast_cancer.data, columns=breast_cancer.feature_names)\n",
    "breast_cancer_df['target'] = breast_cancer.target\n",
    "# Разделяем датасет на обучающую и тестовую выборки\n",
    "X_train_bc, X_test_bc, y_train_bc, y_test_bc = train_test_split(breast_cancer_df.drop('target', axis=1), breast_cancer_df['target'], test_size=0.2, random_state=42)\n",
    "# Создаем модель классификатора на основе случайного леса\n",
    "rf_bc = RandomForestClassifier(random_state=42)\n",
    "# Обучаем модель на обучающей выборке\n",
    "rf_bc.fit(X_train_bc, y_train_bc)\n",
    "# Предсказываем классы для тестовой выборки\n",
    "y_pred_bc = rf_bc.predict(X_test_bc)\n",
    "# Оцениваем качество модели с помощью метрик\n",
    "print('Accuracy score for breast cancer dataset:', accuracy_score(y_test_bc, y_pred_bc))\n",
    "print('Confusion matrix for breast cancer dataset:\\n', confusion_matrix(y_test_bc, y_pred_bc))\n",
    "print('Classification report for breast cancer dataset:\\n', classification_report(y_test_bc, y_pred_bc))\n",
    "# Применяем перекрестную проверку для оценки модели на разных подвыборках\n",
    "cv_scores = cross_val_score(rf_bc, breast_cancer_df.drop('target', axis=1), breast_cancer_df['target'], cv=5)\n",
    "print('Cross-validation scores for breast cancer dataset:', cv_scores)\n",
    "# Применяем решетчатый поиск для подбора оптимальных гиперпараметров модели\n",
    "param_grid = {'n_estimators': [10, 50, 100, 200], 'max_depth': [None, 2, 4, 6, 8], 'min_samples_split': [2, 4, 6, 8]}\n",
    "grid_search = GridSearchCV(rf_bc, param_grid, cv=5, scoring='accuracy')\n",
    "grid_search.fit(X_train_bc, y_train_bc)\n",
    "print('Best parameters for breast cancer dataset:', grid_search.best_params_)\n",
    "print('Best score for breast cancer dataset:', grid_search.best_score_)\n",
    "# Создаем новую модель с оптимальными гиперпараметрами\n",
    "rf_bc_opt = RandomForestClassifier(n_estimators=grid_search.best_params_['n_estimators'], max_depth=grid_search.best_params_['max_depth'], min_samples_split=grid_search.best_params_['min_samples_split'], random_state=42)\n",
    "# Обучаем новую модель на обучающей выборке\n",
    "rf_bc_opt.fit(X_train_bc, y_train_bc)\n",
    "# Предсказываем классы для тестовой выборки\n",
    "y_pred_bc_opt = rf_bc_opt.predict(X_test_bc)\n",
    "# Оцениваем качество новой модели с помощью метрик\n",
    "print('Accuracy score for breast cancer dataset (optimized):', accuracy_score(y_test_bc, y_pred_bc_opt))\n",
    "print('Confusion matrix for breast cancer dataset (optimized):\\n', confusion_matrix(y_test_bc, y_pred_bc_opt))\n",
    "print('Classification report for breast cancer dataset (optimized):\\n', classification_report(y_test_bc, y_pred_bc_opt))"
   ],
   "metadata": {
    "collapsed": false,
    "ExecuteTime": {
     "end_time": "2023-12-06T05:40:11.383188900Z",
     "start_time": "2023-12-06T05:38:57.613767600Z"
    }
   }
  },
  {
   "cell_type": "code",
   "execution_count": 12,
   "outputs": [
    {
     "data": {
      "text/plain": "   salary        city  age vacation_prefer transport_prefer    target\n0   70000  Jalal-Abad   48          Hiking             auto     Tokyo\n1   80000     Bishkek   54   Cultural tour              bus     Tokyo\n2   60000     Bishkek   33          Skiing            train  New York\n3   60000       Naryn   46   Cultural tour            train     Paris\n4   60000       Naryn   60   Beach holiday             auto    Moscow",
      "text/html": "<div>\n<style scoped>\n    .dataframe tbody tr th:only-of-type {\n        vertical-align: middle;\n    }\n\n    .dataframe tbody tr th {\n        vertical-align: top;\n    }\n\n    .dataframe thead th {\n        text-align: right;\n    }\n</style>\n<table border=\"1\" class=\"dataframe\">\n  <thead>\n    <tr style=\"text-align: right;\">\n      <th></th>\n      <th>salary</th>\n      <th>city</th>\n      <th>age</th>\n      <th>vacation_prefer</th>\n      <th>transport_prefer</th>\n      <th>target</th>\n    </tr>\n  </thead>\n  <tbody>\n    <tr>\n      <th>0</th>\n      <td>70000</td>\n      <td>Jalal-Abad</td>\n      <td>48</td>\n      <td>Hiking</td>\n      <td>auto</td>\n      <td>Tokyo</td>\n    </tr>\n    <tr>\n      <th>1</th>\n      <td>80000</td>\n      <td>Bishkek</td>\n      <td>54</td>\n      <td>Cultural tour</td>\n      <td>bus</td>\n      <td>Tokyo</td>\n    </tr>\n    <tr>\n      <th>2</th>\n      <td>60000</td>\n      <td>Bishkek</td>\n      <td>33</td>\n      <td>Skiing</td>\n      <td>train</td>\n      <td>New York</td>\n    </tr>\n    <tr>\n      <th>3</th>\n      <td>60000</td>\n      <td>Naryn</td>\n      <td>46</td>\n      <td>Cultural tour</td>\n      <td>train</td>\n      <td>Paris</td>\n    </tr>\n    <tr>\n      <th>4</th>\n      <td>60000</td>\n      <td>Naryn</td>\n      <td>60</td>\n      <td>Beach holiday</td>\n      <td>auto</td>\n      <td>Moscow</td>\n    </tr>\n  </tbody>\n</table>\n</div>"
     },
     "execution_count": 12,
     "metadata": {},
     "output_type": "execute_result"
    }
   ],
   "source": [
    "# Задание 3: Создать модель классификатор, которая по определенному обучаемому набору (salary, city, age, vacation_prefer, transport_prefer) будет определять предпочтения человека (target), в каком городе провести отпуск\n",
    "\n",
    "# Задание 3a: Создать свой датасет с категориальными данными (1000 строк), которые содержат следующие поля: (salary, city, age, vacation_prefer, transport_prefer, target). Применить import random (random. choice, random.randint)\n",
    "# Создаем списки возможных значений для каждого поля\n",
    "salary_list = [50000, 60000, 70000, 80000, 90000, 100000]\n",
    "city_list = ['Bishkek', 'Osh', 'Jalal-Abad', 'Karakol', 'Tokmok', 'Naryn']\n",
    "age_list = list(range(30, 66))\n",
    "vacation_prefer_list = ['Shopping', 'Beach holiday', 'Skiing', 'Hiking', 'Cultural tour', 'Relaxing']\n",
    "transport_prefer_list = ['auto', 'plane', 'train', 'bus']\n",
    "target_list = ['London', 'Moscow', 'Paris', 'New York', 'Dubai', 'Tokyo']\n",
    "# Создаем пустой датафрейм с нужными колонками\n",
    "vacation_df = pd.DataFrame(columns=['salary', 'city', 'age', 'vacation_prefer', 'transport_prefer', 'target'])\n",
    "# Заполняем датафрейм случайными значениями из списков\n",
    "for i in range(1000):\n",
    "  vacation_df.loc[i] = [random.choice(salary_list), random.choice(city_list), random.choice(age_list), random.choice(vacation_prefer_list), random.choice(transport_prefer_list), random.choice(target_list)]\n",
    "# Просматриваем первые пять строк датафрейма\n",
    "vacation_df.head()"
   ],
   "metadata": {
    "collapsed": false,
    "ExecuteTime": {
     "end_time": "2023-12-06T05:42:29.210908700Z",
     "start_time": "2023-12-06T05:42:28.269623600Z"
    }
   }
  },
  {
   "cell_type": "code",
   "execution_count": 13,
   "outputs": [
    {
     "data": {
      "text/plain": "    salary        city  age vacation_prefer transport_prefer    target\n0  70000.0  Jalal-Abad   48          Hiking             auto     Tokyo\n1  80000.0     Bishkek   54   Cultural tour              bus     Tokyo\n2  60000.0     Bishkek   33          Skiing            train  New York\n3  60000.0       Naryn   46   Cultural tour            train     Paris\n4  60000.0       Naryn   60   Beach holiday             auto    Moscow",
      "text/html": "<div>\n<style scoped>\n    .dataframe tbody tr th:only-of-type {\n        vertical-align: middle;\n    }\n\n    .dataframe tbody tr th {\n        vertical-align: top;\n    }\n\n    .dataframe thead th {\n        text-align: right;\n    }\n</style>\n<table border=\"1\" class=\"dataframe\">\n  <thead>\n    <tr style=\"text-align: right;\">\n      <th></th>\n      <th>salary</th>\n      <th>city</th>\n      <th>age</th>\n      <th>vacation_prefer</th>\n      <th>transport_prefer</th>\n      <th>target</th>\n    </tr>\n  </thead>\n  <tbody>\n    <tr>\n      <th>0</th>\n      <td>70000.0</td>\n      <td>Jalal-Abad</td>\n      <td>48</td>\n      <td>Hiking</td>\n      <td>auto</td>\n      <td>Tokyo</td>\n    </tr>\n    <tr>\n      <th>1</th>\n      <td>80000.0</td>\n      <td>Bishkek</td>\n      <td>54</td>\n      <td>Cultural tour</td>\n      <td>bus</td>\n      <td>Tokyo</td>\n    </tr>\n    <tr>\n      <th>2</th>\n      <td>60000.0</td>\n      <td>Bishkek</td>\n      <td>33</td>\n      <td>Skiing</td>\n      <td>train</td>\n      <td>New York</td>\n    </tr>\n    <tr>\n      <th>3</th>\n      <td>60000.0</td>\n      <td>Naryn</td>\n      <td>46</td>\n      <td>Cultural tour</td>\n      <td>train</td>\n      <td>Paris</td>\n    </tr>\n    <tr>\n      <th>4</th>\n      <td>60000.0</td>\n      <td>Naryn</td>\n      <td>60</td>\n      <td>Beach holiday</td>\n      <td>auto</td>\n      <td>Moscow</td>\n    </tr>\n  </tbody>\n</table>\n</div>"
     },
     "execution_count": 13,
     "metadata": {},
     "output_type": "execute_result"
    }
   ],
   "source": [
    "# Задание 3b: Salary – установить числовой тип (например 50000), city – город проживания (например, Bishkek), age – возраст (например, от 30 до 65), vacation_prefer – тип отдыха (например, Shopping или Beach holiday), transport_prefer – тип транспорта (например, auto, plane), target – город, в котором проведем отпуск (например, London, Moscow)\n",
    "# Проверяем типы данных в датафрейме\n",
    "vacation_df.dtypes\n",
    "# Видим, что salary и age имеют тип int64, а остальные колонки имеют тип object\n",
    "# Приводим salary к типу float64 для удобства\n",
    "vacation_df['salary'] = vacation_df['salary'].astype(float)\n",
    "# Просматриваем первые пять строк датафрейма\n",
    "vacation_df.head()"
   ],
   "metadata": {
    "collapsed": false,
    "ExecuteTime": {
     "end_time": "2023-12-06T05:42:32.032564300Z",
     "start_time": "2023-12-06T05:42:32.016201100Z"
    }
   }
  },
  {
   "cell_type": "code",
   "execution_count": 14,
   "outputs": [
    {
     "data": {
      "text/plain": "    salary  age    target  city_Bishkek  city_Jalal-Abad  city_Karakol  \\\n0  70000.0   48     Tokyo         False             True         False   \n1  80000.0   54     Tokyo          True            False         False   \n2  60000.0   33  New York          True            False         False   \n3  60000.0   46     Paris         False            False         False   \n4  60000.0   60    Moscow         False            False         False   \n\n   city_Naryn  city_Osh  city_Tokmok  vacation_prefer_Beach holiday  \\\n0       False     False        False                          False   \n1       False     False        False                          False   \n2       False     False        False                          False   \n3        True     False        False                          False   \n4        True     False        False                           True   \n\n   vacation_prefer_Cultural tour  vacation_prefer_Hiking  \\\n0                          False                    True   \n1                           True                   False   \n2                          False                   False   \n3                           True                   False   \n4                          False                   False   \n\n   vacation_prefer_Relaxing  vacation_prefer_Shopping  vacation_prefer_Skiing  \\\n0                     False                     False                   False   \n1                     False                     False                   False   \n2                     False                     False                    True   \n3                     False                     False                   False   \n4                     False                     False                   False   \n\n   transport_prefer_auto  transport_prefer_bus  transport_prefer_plane  \\\n0                   True                 False                   False   \n1                  False                  True                   False   \n2                  False                 False                   False   \n3                  False                 False                   False   \n4                   True                 False                   False   \n\n   transport_prefer_train  \n0                   False  \n1                   False  \n2                    True  \n3                    True  \n4                   False  ",
      "text/html": "<div>\n<style scoped>\n    .dataframe tbody tr th:only-of-type {\n        vertical-align: middle;\n    }\n\n    .dataframe tbody tr th {\n        vertical-align: top;\n    }\n\n    .dataframe thead th {\n        text-align: right;\n    }\n</style>\n<table border=\"1\" class=\"dataframe\">\n  <thead>\n    <tr style=\"text-align: right;\">\n      <th></th>\n      <th>salary</th>\n      <th>age</th>\n      <th>target</th>\n      <th>city_Bishkek</th>\n      <th>city_Jalal-Abad</th>\n      <th>city_Karakol</th>\n      <th>city_Naryn</th>\n      <th>city_Osh</th>\n      <th>city_Tokmok</th>\n      <th>vacation_prefer_Beach holiday</th>\n      <th>vacation_prefer_Cultural tour</th>\n      <th>vacation_prefer_Hiking</th>\n      <th>vacation_prefer_Relaxing</th>\n      <th>vacation_prefer_Shopping</th>\n      <th>vacation_prefer_Skiing</th>\n      <th>transport_prefer_auto</th>\n      <th>transport_prefer_bus</th>\n      <th>transport_prefer_plane</th>\n      <th>transport_prefer_train</th>\n    </tr>\n  </thead>\n  <tbody>\n    <tr>\n      <th>0</th>\n      <td>70000.0</td>\n      <td>48</td>\n      <td>Tokyo</td>\n      <td>False</td>\n      <td>True</td>\n      <td>False</td>\n      <td>False</td>\n      <td>False</td>\n      <td>False</td>\n      <td>False</td>\n      <td>False</td>\n      <td>True</td>\n      <td>False</td>\n      <td>False</td>\n      <td>False</td>\n      <td>True</td>\n      <td>False</td>\n      <td>False</td>\n      <td>False</td>\n    </tr>\n    <tr>\n      <th>1</th>\n      <td>80000.0</td>\n      <td>54</td>\n      <td>Tokyo</td>\n      <td>True</td>\n      <td>False</td>\n      <td>False</td>\n      <td>False</td>\n      <td>False</td>\n      <td>False</td>\n      <td>False</td>\n      <td>True</td>\n      <td>False</td>\n      <td>False</td>\n      <td>False</td>\n      <td>False</td>\n      <td>False</td>\n      <td>True</td>\n      <td>False</td>\n      <td>False</td>\n    </tr>\n    <tr>\n      <th>2</th>\n      <td>60000.0</td>\n      <td>33</td>\n      <td>New York</td>\n      <td>True</td>\n      <td>False</td>\n      <td>False</td>\n      <td>False</td>\n      <td>False</td>\n      <td>False</td>\n      <td>False</td>\n      <td>False</td>\n      <td>False</td>\n      <td>False</td>\n      <td>False</td>\n      <td>True</td>\n      <td>False</td>\n      <td>False</td>\n      <td>False</td>\n      <td>True</td>\n    </tr>\n    <tr>\n      <th>3</th>\n      <td>60000.0</td>\n      <td>46</td>\n      <td>Paris</td>\n      <td>False</td>\n      <td>False</td>\n      <td>False</td>\n      <td>True</td>\n      <td>False</td>\n      <td>False</td>\n      <td>False</td>\n      <td>True</td>\n      <td>False</td>\n      <td>False</td>\n      <td>False</td>\n      <td>False</td>\n      <td>False</td>\n      <td>False</td>\n      <td>False</td>\n      <td>True</td>\n    </tr>\n    <tr>\n      <th>4</th>\n      <td>60000.0</td>\n      <td>60</td>\n      <td>Moscow</td>\n      <td>False</td>\n      <td>False</td>\n      <td>False</td>\n      <td>True</td>\n      <td>False</td>\n      <td>False</td>\n      <td>True</td>\n      <td>False</td>\n      <td>False</td>\n      <td>False</td>\n      <td>False</td>\n      <td>False</td>\n      <td>True</td>\n      <td>False</td>\n      <td>False</td>\n      <td>False</td>\n    </tr>\n  </tbody>\n</table>\n</div>"
     },
     "execution_count": 14,
     "metadata": {},
     "output_type": "execute_result"
    }
   ],
   "source": [
    "# Продолжение кода лабораторной работы\n",
    "# Задание 3c: Преобразовать категориальные данные в числовые, используя panadas.get_dummies\n",
    "# Применяем функцию get_dummies к колонкам с категориальными данными\n",
    "vacation_df = pd.get_dummies(vacation_df, columns=['city', 'vacation_prefer', 'transport_prefer'])\n",
    "# Просматриваем первые пять строк датафрейма\n",
    "vacation_df.head()"
   ],
   "metadata": {
    "collapsed": false,
    "ExecuteTime": {
     "end_time": "2023-12-06T05:42:35.334662300Z",
     "start_time": "2023-12-06T05:42:35.287330200Z"
    }
   }
  },
  {
   "cell_type": "code",
   "execution_count": 15,
   "outputs": [],
   "source": [
    "# Задание 3d: Выделить обучающую выборку и тестовую выборку (X_train, y_train, X-test, y_test)\n",
    "# Разделяем датафрейм на признаки и целевую переменную\n",
    "X = vacation_df.drop('target', axis=1)\n",
    "y = vacation_df['target']\n",
    "X_train, X_test, y_train, y_test = train_test_split(X, y, test_size=0.2, random_state=42)\n"
   ],
   "metadata": {
    "collapsed": false,
    "ExecuteTime": {
     "end_time": "2023-12-06T05:42:39.122565200Z",
     "start_time": "2023-12-06T05:42:39.043763600Z"
    }
   }
  },
  {
   "cell_type": "code",
   "execution_count": 16,
   "outputs": [],
   "source": [
    "# Задание 3e: Выбрать модель классификатор (например, from sklearn.ensemble import RandomForestClassifier)\n",
    "# Создаем модель классификатора на основе случайного леса\n",
    "rf_vacation = RandomForestClassifier(random_state=42)"
   ],
   "metadata": {
    "collapsed": false,
    "ExecuteTime": {
     "end_time": "2023-12-06T05:42:52.060944800Z",
     "start_time": "2023-12-06T05:42:52.043759800Z"
    }
   }
  },
  {
   "cell_type": "code",
   "execution_count": 19,
   "outputs": [
    {
     "name": "stdout",
     "output_type": "stream",
     "text": [
      "Accuracy score for vacation dataset: 0.165\n",
      "Confusion matrix for vacation dataset:\n",
      " [[7 6 2 9 5 8]\n",
      " [7 1 5 5 4 3]\n",
      " [5 2 5 1 9 5]\n",
      " [7 6 7 6 8 6]\n",
      " [9 3 9 3 8 5]\n",
      " [8 5 3 7 5 6]]\n",
      "Classification report for vacation dataset:\n",
      "               precision    recall  f1-score   support\n",
      "\n",
      "       Dubai       0.16      0.19      0.18        37\n",
      "      London       0.04      0.04      0.04        25\n",
      "      Moscow       0.16      0.19      0.17        27\n",
      "    New York       0.19      0.15      0.17        40\n",
      "       Paris       0.21      0.22      0.21        37\n",
      "       Tokyo       0.18      0.18      0.18        34\n",
      "\n",
      "    accuracy                           0.17       200\n",
      "   macro avg       0.16      0.16      0.16       200\n",
      "weighted avg       0.16      0.17      0.16       200\n"
     ]
    }
   ],
   "source": [
    "# Задание 3f: Проверить оценку модели\n",
    "# Обучаем модель на обучающей выборке\n",
    "rf_vacation.fit(X_train, y_train)\n",
    "# Предсказываем классы для тестовой выборки\n",
    "y_pred_vacation = rf_vacation.predict(X_test)\n",
    "# Оцениваем качество модели с помощью метрик\n",
    "print('Accuracy score for vacation dataset:', accuracy_score(y_test, y_pred_vacation))\n",
    "print('Confusion matrix for vacation dataset:\\n', confusion_matrix(y_test, y_pred_vacation))\n",
    "print('Classification report for vacation dataset:\\n', classification_report(y_test, y_pred_vacation))"
   ],
   "metadata": {
    "collapsed": false,
    "ExecuteTime": {
     "end_time": "2023-12-06T05:43:46.488117300Z",
     "start_time": "2023-12-06T05:43:46.043207Z"
    }
   }
  },
  {
   "cell_type": "code",
   "execution_count": 20,
   "outputs": [
    {
     "name": "stdout",
     "output_type": "stream",
     "text": [
      "Predicted class for random data: ['Paris']\n"
     ]
    }
   ],
   "source": [
    "# Задание 3g: Сделать предсказание на случайных данных\n",
    "# Создаем случайные данные с теми же колонками, что и в датафрейме\n",
    "random_data = pd.DataFrame(columns=X.columns)\n",
    "random_data.loc[0] = [random.choice(salary_list), random.choice(age_list)] + [random.randint(0, 1) for i in range(len(random_data.columns) - 2)]\n",
    "# Просматриваем случайные данные\n",
    "random_data\n",
    "# Предсказываем класс для случайных данных\n",
    "random_pred = rf_vacation.predict(random_data)\n",
    "# Выводим предсказанный класс\n",
    "print('Predicted class for random data:', random_pred)"
   ],
   "metadata": {
    "collapsed": false,
    "ExecuteTime": {
     "end_time": "2023-12-06T05:44:09.979796900Z",
     "start_time": "2023-12-06T05:44:09.898061Z"
    }
   }
  },
  {
   "cell_type": "code",
   "execution_count": 21,
   "outputs": [
    {
     "name": "stdout",
     "output_type": "stream",
     "text": [
      "Cross-validation scores for vacation dataset: [0.16  0.145 0.16  0.165 0.17 ]\n",
      "Best parameters for vacation dataset: {'max_depth': 2, 'min_samples_split': 2, 'n_estimators': 200}\n",
      "Best score for vacation dataset: 0.1775\n"
     ]
    }
   ],
   "source": [
    "# Задание 3h: Улучшить модель согласно примерам лекций 9-10 и материала лабораторной работы\n",
    "# Применяем перекрестную проверку для оценки модели на разных подвыборках\n",
    "cv_scores_vacation = cross_val_score(rf_vacation, X, y, cv=5)\n",
    "print('Cross-validation scores for vacation dataset:', cv_scores_vacation)\n",
    "# Применяем решетчатый поиск для подбора оптимальных гиперпараметров модели\n",
    "param_grid_vacation = {'n_estimators': [10, 50, 100, 200], 'max_depth': [None, 2, 4, 6, 8], 'min_samples_split': [2, 4, 6, 8]}\n",
    "grid_search_vacation = GridSearchCV(rf_vacation, param_grid_vacation, cv=5, scoring='accuracy')\n",
    "grid_search_vacation.fit(X_train, y_train)\n",
    "print('Best parameters for vacation dataset:', grid_search_vacation.best_params_)\n",
    "print('Best score for vacation dataset:', grid_search_vacation.best_score_)"
   ],
   "metadata": {
    "collapsed": false,
    "ExecuteTime": {
     "end_time": "2023-12-06T05:45:16.633056800Z",
     "start_time": "2023-12-06T05:44:26.714001900Z"
    }
   }
  },
  {
   "cell_type": "code",
   "execution_count": 25,
   "outputs": [
    {
     "name": "stdout",
     "output_type": "stream",
     "text": [
      "Accuracy score for vacation dataset (optimized): 0.17\n",
      "Confusion matrix for vacation dataset (optimized):\n",
      " [[ 9  0 21  0  7  0]\n",
      " [ 4  0 16  0  5  0]\n",
      " [ 4  0 14  1  8  0]\n",
      " [ 9  0 16  0 15  0]\n",
      " [ 8  0 17  1 11  0]\n",
      " [ 6  0 20  1  7  0]]\n",
      "Classification report for vacation dataset (optimized):\n",
      "               precision    recall  f1-score   support\n",
      "\n",
      "       Dubai       0.23      0.24      0.23        37\n",
      "      London       1.00      0.00      0.00        25\n",
      "      Moscow       0.13      0.52      0.21        27\n",
      "    New York       0.00      0.00      1.00        40\n",
      "       Paris       0.21      0.30      0.24        37\n",
      "       Tokyo       1.00      0.00      0.00        34\n",
      "\n",
      "    accuracy                           0.17       200\n",
      "   macro avg       0.43      0.18      0.28       200\n",
      "weighted avg       0.39      0.17      0.32       200\n"
     ]
    }
   ],
   "source": [
    "# Создаем новую модель с оптимальными гиперпараметрами\n",
    "rf_vacation_opt = RandomForestClassifier(n_estimators=grid_search_vacation.best_params_['n_estimators'], max_depth=grid_search_vacation.best_params_['max_depth'], min_samples_split=grid_search_vacation.best_params_['min_samples_split'], random_state=42)\n",
    "# Обучаем новую модель на обучающей выборке\n",
    "rf_vacation_opt.fit(X_train, y_train)\n",
    "# Предсказываем классы для тестовой выборки\n",
    "y_pred_vacation_opt = rf_vacation_opt.predict(X_test)\n",
    "# Оцениваем качество новой модели с помощью метрик\n",
    "print('Accuracy score for vacation dataset (optimized):', accuracy_score(y_test, y_pred_vacation_opt))\n",
    "print('Confusion matrix for vacation dataset (optimized):\\n', confusion_matrix(y_test, y_pred_vacation_opt))\n",
    "print('Classification report for vacation dataset (optimized):\\n', classification_report(y_test, y_pred_vacation_opt, zero_division=1))"
   ],
   "metadata": {
    "collapsed": false,
    "ExecuteTime": {
     "end_time": "2023-12-06T05:48:28.939553Z",
     "start_time": "2023-12-06T05:48:28.669538800Z"
    }
   }
  },
  {
   "cell_type": "markdown",
   "source": [
    "## Вывод из работы\n",
    "#### В ходе лабораторной работы я изучил материал и примеры по оценке качества модели на датасете iris. Я применил алгоритмы улучшения качества и оценки моделей (перекрестная проверка, решетчатый поиск, метрики модели) на датасете breast_cancer. Я создал свою модель классификатора, которая по определенному обучаемому набору (salary, city, age, vacation_prefer, transport_prefer) определяет предпочтения человека (target), в каком городе провести отпуск. Я сгенерировал свой датасет с категориальными данными, преобразовал их в числовые, разделил на обучающую и тестовую выборки, обучил модель, проверил ее оценку, сделал предсказание на случайных данных и улучшил модель с помощью перекрестной проверки и решетчатого поиска. Я сравнил качество модели до (0.165) и после оптимизации (0.17) и увидел, что оно улучшилось."
   ],
   "metadata": {
    "collapsed": false
   }
  },
  {
   "cell_type": "code",
   "execution_count": null,
   "outputs": [],
   "source": [],
   "metadata": {
    "collapsed": false,
    "ExecuteTime": {
     "start_time": "2023-12-06T05:40:15.014534800Z"
    }
   }
  }
 ],
 "metadata": {
  "kernelspec": {
   "display_name": "Python 3",
   "language": "python",
   "name": "python3"
  },
  "language_info": {
   "codemirror_mode": {
    "name": "ipython",
    "version": 2
   },
   "file_extension": ".py",
   "mimetype": "text/x-python",
   "name": "python",
   "nbconvert_exporter": "python",
   "pygments_lexer": "ipython2",
   "version": "2.7.6"
  }
 },
 "nbformat": 4,
 "nbformat_minor": 0
}
