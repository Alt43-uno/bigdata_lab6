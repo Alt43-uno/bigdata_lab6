{
 "cells": [
  {
   "cell_type": "markdown",
   "source": [
    "# Лабораторная работа 6 Югай Ильи AIN-1-21"
   ],
   "metadata": {
    "collapsed": false
   }
  },
  {
   "cell_type": "code",
   "execution_count": null,
   "outputs": [],
   "source": [
    "# Импортируем необходимые библиотеки\n",
    "import pandas as pd\n",
    "import numpy as np\n",
    "import random\n",
    "from sklearn.datasets import load_breast_cancer\n",
    "from sklearn.model_selection import train_test_split, cross_val_score, GridSearchCV\n",
    "from sklearn.metrics import accuracy_score, confusion_matrix, classification_report\n",
    "from sklearn.ensemble import RandomForestClassifier"
   ],
   "metadata": {
    "collapsed": false,
    "ExecuteTime": {
     "start_time": "2023-11-29T19:57:50.250339300Z"
    }
   }
  },
  {
   "cell_type": "code",
   "execution_count": null,
   "outputs": [],
   "source": [
    "# Задание 1: Изучить материал и примеры, описанные в ходе работы (датасет iris)\n",
    "# Загружаем датасет iris\n",
    "from sklearn.datasets import load_iris\n",
    "iris = load_iris()\n",
    "# Создаем датафрейм с признаками и целевой переменной\n",
    "iris_df = pd.DataFrame(iris.data, columns=iris.feature_names)\n",
    "iris_df['target'] = iris.target\n",
    "# Разделяем датасет на обучающую и тестовую выборки\n",
    "X_train_iris, X_test_iris, y_train_iris, y_test_iris = train_test_split(iris_df.drop('target', axis=1), iris_df['target'], test_size=0.2, random_state=42)\n",
    "# Создаем модель классификатора на основе случайного леса\n",
    "rf_iris = RandomForestClassifier(random_state=42)\n",
    "# Обучаем модель на обучающей выборке\n",
    "rf_iris.fit(X_train_iris, y_train_iris)\n",
    "# Предсказываем классы для тестовой выборки\n",
    "y_pred_iris = rf_iris.predict(X_test_iris)\n",
    "# Оцениваем качество модели с помощью метрик\n",
    "print('Accuracy score for iris dataset:', accuracy_score(y_test_iris, y_pred_iris))\n",
    "print('Confusion matrix for iris dataset:\\n', confusion_matrix(y_test_iris, y_pred_iris))\n",
    "print('Classification report for iris dataset:\\n', classification_report(y_test_iris, y_pred_iris))"
   ],
   "metadata": {
    "collapsed": false,
    "ExecuteTime": {
     "start_time": "2023-11-29T19:57:50.259386300Z"
    }
   }
  },
  {
   "cell_type": "code",
   "execution_count": null,
   "outputs": [
    {
     "name": "stdout",
     "output_type": "stream",
     "text": [
      "Best parameters for breast cancer dataset: {'max_depth': None, 'min_samples_split': 2, 'n_estimators': 200}\n",
      "Best score for breast cancer dataset: 0.9626373626373625\n",
      "Accuracy score for breast cancer dataset (optimized): 0.9649122807017544\n",
      "Confusion matrix for breast cancer dataset (optimized):\n",
      " [[40  3]\n",
      " [ 1 70]]\n",
      "Classification report for breast cancer dataset (optimized):\n",
      "               precision    recall  f1-score   support\n",
      "\n",
      "           0       0.98      0.93      0.95        43\n",
      "           1       0.96      0.99      0.97        71\n",
      "\n",
      "    accuracy                           0.96       114\n",
      "   macro avg       0.97      0.96      0.96       114\n",
      "weighted avg       0.97      0.96      0.96       114\n",
      "\n"
     ]
    }
   ],
   "source": [
    "# Задание 2: Используя один из подходящих игрушечных датасетов (breast_canser, digits, diabetes …) применить алгоритмы улучшения качества и оценки моделей (перекрестная проверка, решетчатый поиск, метрики модели)\n",
    "# Загружаем датасет breast_cancer\n",
    "breast_cancer = load_breast_cancer()\n",
    "# Создаем датафрейм с признаками и целевой переменной\n",
    "breast_cancer_df = pd.DataFrame(breast_cancer.data, columns=breast_cancer.feature_names)\n",
    "breast_cancer_df['target'] = breast_cancer.target\n",
    "# Разделяем датасет на обучающую и тестовую выборки\n",
    "X_train_bc, X_test_bc, y_train_bc, y_test_bc = train_test_split(breast_cancer_df.drop('target', axis=1), breast_cancer_df['target'], test_size=0.2, random_state=42)\n",
    "# Создаем модель классификатора на основе случайного леса\n",
    "rf_bc = RandomForestClassifier(random_state=42)\n",
    "# Обучаем модель на обучающей выборке\n",
    "rf_bc.fit(X_train_bc, y_train_bc)\n",
    "# Предсказываем классы для тестовой выборки\n",
    "y_pred_bc = rf_bc.predict(X_test_bc)\n",
    "# Оцениваем качество модели с помощью метрик\n",
    "print('Accuracy score for breast cancer dataset:', accuracy_score(y_test_bc, y_pred_bc))\n",
    "print('Confusion matrix for breast cancer dataset:\\n', confusion_matrix(y_test_bc, y_pred_bc))\n",
    "print('Classification report for breast cancer dataset:\\n', classification_report(y_test_bc, y_pred_bc))\n",
    "# Применяем перекрестную проверку для оценки модели на разных подвыборках\n",
    "cv_scores = cross_val_score(rf_bc, breast_cancer_df.drop('target', axis=1), breast_cancer_df['target'], cv=5)\n",
    "print('Cross-validation scores for breast cancer dataset:', cv_scores)\n",
    "# Применяем решетчатый поиск для подбора оптимальных гиперпараметров модели\n",
    "param_grid = {'n_estimators': [10, 50, 100, 200], 'max_depth': [None, 2, 4, 6, 8], 'min_samples_split': [2, 4, 6, 8]}\n",
    "grid_search = GridSearchCV(rf_bc, param_grid, cv=5, scoring='accuracy')\n",
    "grid_search.fit(X_train_bc, y_train_bc)\n",
    "print('Best parameters for breast cancer dataset:', grid_search.best_params_)\n",
    "print('Best score for breast cancer dataset:', grid_search.best_score_)\n",
    "# Создаем новую модель с оптимальными гиперпараметрами\n",
    "rf_bc_opt = RandomForestClassifier(n_estimators=grid_search.best_params_['n_estimators'], max_depth=grid_search.best_params_['max_depth'], min_samples_split=grid_search.best_params_['min_samples_split'], random_state=42)\n",
    "# Обучаем новую модель на обучающей выборке\n",
    "rf_bc_opt.fit(X_train_bc, y_train_bc)\n",
    "# Предсказываем классы для тестовой выборки\n",
    "y_pred_bc_opt = rf_bc_opt.predict(X_test_bc)\n",
    "# Оцениваем качество новой модели с помощью метрик\n",
    "print('Accuracy score for breast cancer dataset (optimized):', accuracy_score(y_test_bc, y_pred_bc_opt))\n",
    "print('Confusion matrix for breast cancer dataset (optimized):\\n', confusion_matrix(y_test_bc, y_pred_bc_opt))\n",
    "print('Classification report for breast cancer dataset (optimized):\\n', classification_report(y_test_bc, y_pred_bc_opt))"
   ],
   "metadata": {
    "collapsed": false
   }
  },
  {
   "cell_type": "code",
   "execution_count": null,
   "outputs": [
    {
     "data": {
      "text/plain": "   salary        city  age vacation_prefer transport_prefer    target\n0   90000  Jalal-Abad   53          Hiking             auto    Moscow\n1   50000     Karakol   53        Shopping              bus    London\n2   80000      Tokmok   42        Relaxing            plane     Paris\n3   70000      Tokmok   51        Relaxing             auto  New York\n4   50000      Tokmok   30        Relaxing            train    Moscow",
      "text/html": "<div>\n<style scoped>\n    .dataframe tbody tr th:only-of-type {\n        vertical-align: middle;\n    }\n\n    .dataframe tbody tr th {\n        vertical-align: top;\n    }\n\n    .dataframe thead th {\n        text-align: right;\n    }\n</style>\n<table border=\"1\" class=\"dataframe\">\n  <thead>\n    <tr style=\"text-align: right;\">\n      <th></th>\n      <th>salary</th>\n      <th>city</th>\n      <th>age</th>\n      <th>vacation_prefer</th>\n      <th>transport_prefer</th>\n      <th>target</th>\n    </tr>\n  </thead>\n  <tbody>\n    <tr>\n      <th>0</th>\n      <td>90000</td>\n      <td>Jalal-Abad</td>\n      <td>53</td>\n      <td>Hiking</td>\n      <td>auto</td>\n      <td>Moscow</td>\n    </tr>\n    <tr>\n      <th>1</th>\n      <td>50000</td>\n      <td>Karakol</td>\n      <td>53</td>\n      <td>Shopping</td>\n      <td>bus</td>\n      <td>London</td>\n    </tr>\n    <tr>\n      <th>2</th>\n      <td>80000</td>\n      <td>Tokmok</td>\n      <td>42</td>\n      <td>Relaxing</td>\n      <td>plane</td>\n      <td>Paris</td>\n    </tr>\n    <tr>\n      <th>3</th>\n      <td>70000</td>\n      <td>Tokmok</td>\n      <td>51</td>\n      <td>Relaxing</td>\n      <td>auto</td>\n      <td>New York</td>\n    </tr>\n    <tr>\n      <th>4</th>\n      <td>50000</td>\n      <td>Tokmok</td>\n      <td>30</td>\n      <td>Relaxing</td>\n      <td>train</td>\n      <td>Moscow</td>\n    </tr>\n  </tbody>\n</table>\n</div>"
     },
     "execution_count": 14,
     "metadata": {},
     "output_type": "execute_result"
    }
   ],
   "source": [
    "# Задание 3: Создать модель классификатор, которая по определенному обучаемому набору (salary, city, age, vacation_prefer, transport_prefer) будет определять предпочтения человека (target), в каком городе провести отпуск\n",
    "\n",
    "# Задание 3a: Создать свой датасет с категориальными данными (1000 строк), которые содержат следующие поля: (salary, city, age, vacation_prefer, transport_prefer, target). Применить import random (random. choice, random.randint)\n",
    "# Создаем списки возможных значений для каждого поля\n",
    "salary_list = [50000, 60000, 70000, 80000, 90000, 100000]\n",
    "city_list = ['Bishkek', 'Osh', 'Jalal-Abad', 'Karakol', 'Tokmok', 'Naryn']\n",
    "age_list = list(range(30, 66))\n",
    "vacation_prefer_list = ['Shopping', 'Beach holiday', 'Skiing', 'Hiking', 'Cultural tour', 'Relaxing']\n",
    "transport_prefer_list = ['auto', 'plane', 'train', 'bus']\n",
    "target_list = ['London', 'Moscow', 'Paris', 'New York', 'Dubai', 'Tokyo']\n",
    "# Создаем пустой датафрейм с нужными колонками\n",
    "vacation_df = pd.DataFrame(columns=['salary', 'city', 'age', 'vacation_prefer', 'transport_prefer', 'target'])\n",
    "# Заполняем датафрейм случайными значениями из списков\n",
    "for i in range(1000):\n",
    "  vacation_df.loc[i] = [random.choice(salary_list), random.choice(city_list), random.choice(age_list), random.choice(vacation_prefer_list), random.choice(transport_prefer_list), random.choice(target_list)]\n",
    "# Просматриваем первые пять строк датафрейма\n",
    "vacation_df.head()"
   ],
   "metadata": {
    "collapsed": false,
    "ExecuteTime": {
     "end_time": "2023-11-29T19:57:50.132025900Z",
     "start_time": "2023-11-29T19:57:49.471361500Z"
    }
   }
  },
  {
   "cell_type": "code",
   "execution_count": null,
   "outputs": [
    {
     "data": {
      "text/plain": "    salary        city  age vacation_prefer transport_prefer    target\n0  90000.0  Jalal-Abad   53          Hiking             auto    Moscow\n1  50000.0     Karakol   53        Shopping              bus    London\n2  80000.0      Tokmok   42        Relaxing            plane     Paris\n3  70000.0      Tokmok   51        Relaxing             auto  New York\n4  50000.0      Tokmok   30        Relaxing            train    Moscow",
      "text/html": "<div>\n<style scoped>\n    .dataframe tbody tr th:only-of-type {\n        vertical-align: middle;\n    }\n\n    .dataframe tbody tr th {\n        vertical-align: top;\n    }\n\n    .dataframe thead th {\n        text-align: right;\n    }\n</style>\n<table border=\"1\" class=\"dataframe\">\n  <thead>\n    <tr style=\"text-align: right;\">\n      <th></th>\n      <th>salary</th>\n      <th>city</th>\n      <th>age</th>\n      <th>vacation_prefer</th>\n      <th>transport_prefer</th>\n      <th>target</th>\n    </tr>\n  </thead>\n  <tbody>\n    <tr>\n      <th>0</th>\n      <td>90000.0</td>\n      <td>Jalal-Abad</td>\n      <td>53</td>\n      <td>Hiking</td>\n      <td>auto</td>\n      <td>Moscow</td>\n    </tr>\n    <tr>\n      <th>1</th>\n      <td>50000.0</td>\n      <td>Karakol</td>\n      <td>53</td>\n      <td>Shopping</td>\n      <td>bus</td>\n      <td>London</td>\n    </tr>\n    <tr>\n      <th>2</th>\n      <td>80000.0</td>\n      <td>Tokmok</td>\n      <td>42</td>\n      <td>Relaxing</td>\n      <td>plane</td>\n      <td>Paris</td>\n    </tr>\n    <tr>\n      <th>3</th>\n      <td>70000.0</td>\n      <td>Tokmok</td>\n      <td>51</td>\n      <td>Relaxing</td>\n      <td>auto</td>\n      <td>New York</td>\n    </tr>\n    <tr>\n      <th>4</th>\n      <td>50000.0</td>\n      <td>Tokmok</td>\n      <td>30</td>\n      <td>Relaxing</td>\n      <td>train</td>\n      <td>Moscow</td>\n    </tr>\n  </tbody>\n</table>\n</div>"
     },
     "execution_count": 15,
     "metadata": {},
     "output_type": "execute_result"
    }
   ],
   "source": [
    "# Задание 3b: Salary – установить числовой тип (например 50000), city – город проживания (например, Bishkek), age – возраст (например, от 30 до 65), vacation_prefer – тип отдыха (например, Shopping или Beach holiday), transport_prefer – тип транспорта (например, auto, plane), target – город, в котором проведем отпуск (например, London, Moscow)\n",
    "# Проверяем типы данных в датафрейме\n",
    "vacation_df.dtypes\n",
    "# Видим, что salary и age имеют тип int64, а остальные колонки имеют тип object\n",
    "# Приводим salary к типу float64 для удобства\n",
    "vacation_df['salary'] = vacation_df['salary'].astype(float)\n",
    "# Просматриваем первые пять строк датафрейма\n",
    "vacation_df.head()"
   ],
   "metadata": {
    "collapsed": false,
    "ExecuteTime": {
     "end_time": "2023-11-29T19:57:50.169256200Z",
     "start_time": "2023-11-29T19:57:50.135025900Z"
    }
   }
  },
  {
   "cell_type": "code",
   "execution_count": null,
   "outputs": [
    {
     "data": {
      "text/plain": "    salary  age  city_Bishkek  city_Jalal-Abad  city_Karakol  city_Naryn  \\\n0  90000.0   53         False             True         False       False   \n1  50000.0   53         False            False          True       False   \n2  80000.0   42         False            False         False       False   \n3  70000.0   51         False            False         False       False   \n4  50000.0   30         False            False         False       False   \n\n   city_Osh  city_Tokmok  vacation_prefer_Beach holiday  \\\n0     False        False                          False   \n1     False        False                          False   \n2     False         True                          False   \n3     False         True                          False   \n4     False         True                          False   \n\n   vacation_prefer_Cultural tour  ...  transport_prefer_auto  \\\n0                          False  ...                   True   \n1                          False  ...                  False   \n2                          False  ...                  False   \n3                          False  ...                   True   \n4                          False  ...                  False   \n\n   transport_prefer_bus  transport_prefer_plane  transport_prefer_train  \\\n0                 False                   False                   False   \n1                  True                   False                   False   \n2                 False                    True                   False   \n3                 False                   False                   False   \n4                 False                   False                    True   \n\n   target_Dubai  target_London  target_Moscow  target_New York  target_Paris  \\\n0         False          False           True            False         False   \n1         False           True          False            False         False   \n2         False          False          False            False          True   \n3         False          False          False             True         False   \n4         False          False           True            False         False   \n\n   target_Tokyo  \n0         False  \n1         False  \n2         False  \n3         False  \n4         False  \n\n[5 rows x 24 columns]",
      "text/html": "<div>\n<style scoped>\n    .dataframe tbody tr th:only-of-type {\n        vertical-align: middle;\n    }\n\n    .dataframe tbody tr th {\n        vertical-align: top;\n    }\n\n    .dataframe thead th {\n        text-align: right;\n    }\n</style>\n<table border=\"1\" class=\"dataframe\">\n  <thead>\n    <tr style=\"text-align: right;\">\n      <th></th>\n      <th>salary</th>\n      <th>age</th>\n      <th>city_Bishkek</th>\n      <th>city_Jalal-Abad</th>\n      <th>city_Karakol</th>\n      <th>city_Naryn</th>\n      <th>city_Osh</th>\n      <th>city_Tokmok</th>\n      <th>vacation_prefer_Beach holiday</th>\n      <th>vacation_prefer_Cultural tour</th>\n      <th>...</th>\n      <th>transport_prefer_auto</th>\n      <th>transport_prefer_bus</th>\n      <th>transport_prefer_plane</th>\n      <th>transport_prefer_train</th>\n      <th>target_Dubai</th>\n      <th>target_London</th>\n      <th>target_Moscow</th>\n      <th>target_New York</th>\n      <th>target_Paris</th>\n      <th>target_Tokyo</th>\n    </tr>\n  </thead>\n  <tbody>\n    <tr>\n      <th>0</th>\n      <td>90000.0</td>\n      <td>53</td>\n      <td>False</td>\n      <td>True</td>\n      <td>False</td>\n      <td>False</td>\n      <td>False</td>\n      <td>False</td>\n      <td>False</td>\n      <td>False</td>\n      <td>...</td>\n      <td>True</td>\n      <td>False</td>\n      <td>False</td>\n      <td>False</td>\n      <td>False</td>\n      <td>False</td>\n      <td>True</td>\n      <td>False</td>\n      <td>False</td>\n      <td>False</td>\n    </tr>\n    <tr>\n      <th>1</th>\n      <td>50000.0</td>\n      <td>53</td>\n      <td>False</td>\n      <td>False</td>\n      <td>True</td>\n      <td>False</td>\n      <td>False</td>\n      <td>False</td>\n      <td>False</td>\n      <td>False</td>\n      <td>...</td>\n      <td>False</td>\n      <td>True</td>\n      <td>False</td>\n      <td>False</td>\n      <td>False</td>\n      <td>True</td>\n      <td>False</td>\n      <td>False</td>\n      <td>False</td>\n      <td>False</td>\n    </tr>\n    <tr>\n      <th>2</th>\n      <td>80000.0</td>\n      <td>42</td>\n      <td>False</td>\n      <td>False</td>\n      <td>False</td>\n      <td>False</td>\n      <td>False</td>\n      <td>True</td>\n      <td>False</td>\n      <td>False</td>\n      <td>...</td>\n      <td>False</td>\n      <td>False</td>\n      <td>True</td>\n      <td>False</td>\n      <td>False</td>\n      <td>False</td>\n      <td>False</td>\n      <td>False</td>\n      <td>True</td>\n      <td>False</td>\n    </tr>\n    <tr>\n      <th>3</th>\n      <td>70000.0</td>\n      <td>51</td>\n      <td>False</td>\n      <td>False</td>\n      <td>False</td>\n      <td>False</td>\n      <td>False</td>\n      <td>True</td>\n      <td>False</td>\n      <td>False</td>\n      <td>...</td>\n      <td>True</td>\n      <td>False</td>\n      <td>False</td>\n      <td>False</td>\n      <td>False</td>\n      <td>False</td>\n      <td>False</td>\n      <td>True</td>\n      <td>False</td>\n      <td>False</td>\n    </tr>\n    <tr>\n      <th>4</th>\n      <td>50000.0</td>\n      <td>30</td>\n      <td>False</td>\n      <td>False</td>\n      <td>False</td>\n      <td>False</td>\n      <td>False</td>\n      <td>True</td>\n      <td>False</td>\n      <td>False</td>\n      <td>...</td>\n      <td>False</td>\n      <td>False</td>\n      <td>False</td>\n      <td>True</td>\n      <td>False</td>\n      <td>False</td>\n      <td>True</td>\n      <td>False</td>\n      <td>False</td>\n      <td>False</td>\n    </tr>\n  </tbody>\n</table>\n<p>5 rows × 24 columns</p>\n</div>"
     },
     "execution_count": 16,
     "metadata": {},
     "output_type": "execute_result"
    }
   ],
   "source": [
    "# Продолжение кода лабораторной работы\n",
    "# Задание 3c: Преобразовать категориальные данные в числовые, используя panadas.get_dummies\n",
    "# Применяем функцию get_dummies к колонкам с категориальными данными\n",
    "vacation_df = pd.get_dummies(vacation_df, columns=['city', 'vacation_prefer', 'transport_prefer', 'target'])\n",
    "# Просматриваем первые пять строк датафрейма\n",
    "vacation_df.head()"
   ],
   "metadata": {
    "collapsed": false,
    "ExecuteTime": {
     "end_time": "2023-11-29T19:57:50.282539300Z",
     "start_time": "2023-11-29T19:57:50.269436200Z"
    }
   }
  },
  {
   "cell_type": "code",
   "execution_count": 24,
   "outputs": [],
   "source": [
    "# Задание 3d: Выделить обучающую выборку и тестовую выборку (X_train, y_train, X-test, y_test)\n",
    "# Разделяем датафрейм на признаки и целевую переменную\n",
    "X_vacation = vacation_df.drop(['target_London', 'target_Moscow', 'target_Paris', 'target_New York', 'target_Dubai', 'target_Tokyo'], axis=1)\n",
    "y_vacation = vacation_df['target_London'] # Выбираем одну из колонок с префиксом 'target_' в качестве целевой переменной\n",
    "# Разделяем датафрейм на обучающую и тестовую выборки\n",
    "X_train_vacation, X_test_vacation, y_train_vacation, y_test_vacation = train_test_split(X_vacation, y_vacation, test_size=0.2, random_state=42)\n"
   ],
   "metadata": {
    "collapsed": false,
    "ExecuteTime": {
     "end_time": "2023-11-29T20:00:50.410028500Z",
     "start_time": "2023-11-29T20:00:50.394966900Z"
    }
   }
  },
  {
   "cell_type": "code",
   "execution_count": 25,
   "outputs": [],
   "source": [
    "# Задание 3e: Выбрать модель классификатор (например, from sklearn.ensemble import RandomForestClassifier)\n",
    "# Создаем модель классификатора на основе случайного леса\n",
    "rf_vacation = RandomForestClassifier(random_state=42)"
   ],
   "metadata": {
    "collapsed": false,
    "ExecuteTime": {
     "end_time": "2023-11-29T20:00:53.933907200Z",
     "start_time": "2023-11-29T20:00:53.920360Z"
    }
   }
  },
  {
   "cell_type": "code",
   "execution_count": 26,
   "outputs": [
    {
     "name": "stdout",
     "output_type": "stream",
     "text": [
      "Accuracy score for vacation dataset: 0.78\n",
      "Confusion matrix for vacation dataset:\n",
      " [[156   5]\n",
      " [ 39   0]]\n",
      "Classification report for vacation dataset:\n",
      "               precision    recall  f1-score   support\n",
      "\n",
      "       False       0.80      0.97      0.88       161\n",
      "        True       0.00      0.00      0.00        39\n",
      "\n",
      "    accuracy                           0.78       200\n",
      "   macro avg       0.40      0.48      0.44       200\n",
      "weighted avg       0.64      0.78      0.71       200\n",
      "\n"
     ]
    }
   ],
   "source": [
    "# Задание 3f: Проверить оценку модели\n",
    "# Обучаем модель на обучающей выборке\n",
    "rf_vacation.fit(X_train_vacation, y_train_vacation)\n",
    "# Предсказываем классы для тестовой выборки\n",
    "y_pred_vacation = rf_vacation.predict(X_test_vacation)\n",
    "# Оцениваем качество модели с помощью метрик\n",
    "print('Accuracy score for vacation dataset:', accuracy_score(y_test_vacation, y_pred_vacation))\n",
    "print('Confusion matrix for vacation dataset:\\n', confusion_matrix(y_test_vacation, y_pred_vacation))\n",
    "print('Classification report for vacation dataset:\\n', classification_report(y_test_vacation, y_pred_vacation))"
   ],
   "metadata": {
    "collapsed": false,
    "ExecuteTime": {
     "end_time": "2023-11-29T20:00:54.550236Z",
     "start_time": "2023-11-29T20:00:54.334971700Z"
    }
   }
  },
  {
   "cell_type": "code",
   "execution_count": 27,
   "outputs": [
    {
     "name": "stdout",
     "output_type": "stream",
     "text": [
      "Predicted class for random data: [False]\n"
     ]
    }
   ],
   "source": [
    "# Задание 3g: Сделать предсказание на случайных данных\n",
    "# Создаем случайные данные с теми же колонками, что и в датафрейме\n",
    "random_data = pd.DataFrame(columns=X_vacation.columns)\n",
    "random_data.loc[0] = [random.choice(salary_list), random.choice(age_list)] + [random.randint(0, 1) for i in range(len(random_data.columns) - 2)]\n",
    "# Просматриваем случайные данные\n",
    "random_data\n",
    "# Предсказываем класс для случайных данных\n",
    "random_pred = rf_vacation.predict(random_data)\n",
    "# Выводим предсказанный класс\n",
    "print('Predicted class for random data:', random_pred)"
   ],
   "metadata": {
    "collapsed": false,
    "ExecuteTime": {
     "end_time": "2023-11-29T20:00:56.372078400Z",
     "start_time": "2023-11-29T20:00:56.330537800Z"
    }
   }
  },
  {
   "cell_type": "code",
   "execution_count": 28,
   "outputs": [
    {
     "name": "stdout",
     "output_type": "stream",
     "text": [
      "Cross-validation scores for vacation dataset: [0.8  0.81 0.82 0.77 0.82]\n",
      "Best parameters for vacation dataset: {'max_depth': 8, 'min_samples_split': 8, 'n_estimators': 10}\n",
      "Best score for vacation dataset: 0.8387499999999999\n"
     ]
    }
   ],
   "source": [
    "# Задание 3h: Улучшить модель согласно примерам лекций 9-10 и материала лабораторной работы\n",
    "# Применяем перекрестную проверку для оценки модели на разных подвыборках\n",
    "cv_scores_vacation = cross_val_score(rf_vacation, X_vacation, y_vacation, cv=5)\n",
    "print('Cross-validation scores for vacation dataset:', cv_scores_vacation)\n",
    "# Применяем решетчатый поиск для подбора оптимальных гиперпараметров модели\n",
    "param_grid_vacation = {'n_estimators': [10, 50, 100, 200], 'max_depth': [None, 2, 4, 6, 8], 'min_samples_split': [2, 4, 6, 8]}\n",
    "grid_search_vacation = GridSearchCV(rf_vacation, param_grid_vacation, cv=5, scoring='accuracy')\n",
    "grid_search_vacation.fit(X_train_vacation, y_train_vacation)\n",
    "print('Best parameters for vacation dataset:', grid_search_vacation.best_params_)\n",
    "print('Best score for vacation dataset:', grid_search_vacation.best_score_)"
   ],
   "metadata": {
    "collapsed": false,
    "ExecuteTime": {
     "end_time": "2023-11-29T20:01:42.032820400Z",
     "start_time": "2023-11-29T20:00:58.139147600Z"
    }
   }
  },
  {
   "cell_type": "code",
   "execution_count": 29,
   "outputs": [
    {
     "name": "stdout",
     "output_type": "stream",
     "text": [
      "Accuracy score for vacation dataset (optimized): 0.81\n",
      "Confusion matrix for vacation dataset (optimized):\n",
      " [[161   0]\n",
      " [ 38   1]]\n",
      "Classification report for vacation dataset (optimized):\n",
      "               precision    recall  f1-score   support\n",
      "\n",
      "       False       0.81      1.00      0.89       161\n",
      "        True       1.00      0.03      0.05        39\n",
      "\n",
      "    accuracy                           0.81       200\n",
      "   macro avg       0.90      0.51      0.47       200\n",
      "weighted avg       0.85      0.81      0.73       200\n",
      "\n"
     ]
    }
   ],
   "source": [
    "# Создаем новую модель с оптимальными гиперпараметрами\n",
    "rf_vacation_opt = RandomForestClassifier(n_estimators=grid_search_vacation.best_params_['n_estimators'], max_depth=grid_search_vacation.best_params_['max_depth'], min_samples_split=grid_search_vacation.best_params_['min_samples_split'], random_state=42)\n",
    "# Обучаем новую модель на обучающей выборке\n",
    "rf_vacation_opt.fit(X_train_vacation, y_train_vacation)\n",
    "# Предсказываем классы для тестовой выборки\n",
    "y_pred_vacation_opt = rf_vacation_opt.predict(X_test_vacation)\n",
    "# Оцениваем качество новой модели с помощью метрик\n",
    "print('Accuracy score for vacation dataset (optimized):', accuracy_score(y_test_vacation, y_pred_vacation_opt))\n",
    "print('Confusion matrix for vacation dataset (optimized):\\n', confusion_matrix(y_test_vacation, y_pred_vacation_opt))\n",
    "print('Classification report for vacation dataset (optimized):\\n', classification_report(y_test_vacation, y_pred_vacation_opt))"
   ],
   "metadata": {
    "collapsed": false,
    "ExecuteTime": {
     "end_time": "2023-11-29T20:01:45.656617200Z",
     "start_time": "2023-11-29T20:01:45.622089400Z"
    }
   }
  },
  {
   "cell_type": "markdown",
   "source": [
    "## Вывод из работы\n",
    "#### В ходе лабораторной работы мы изучили материал и примеры по оценке качества модели на датасете iris. Мы применили алгоритмы улучшения качества и оценки моделей (перекрестная проверка, решетчатый поиск, метрики модели) на датасете breast_cancer. Мы создали свою модель классификатора, которая по определенному обучаемому набору (salary, city, age, vacation_prefer, transport_prefer) определяет предпочтения человека (target), в каком городе провести отпуск. Мы сгенерировали свой датасет с категориальными данными, преобразовали их в числовые, разделили на обучающую и тестовую выборки, обучили модель, проверили ее оценку, сделали предсказание на случайных данных и улучшили модель с помощью перекрестной проверки и решетчатого поиска. Мы сравнили качество модели до и после оптимизации и увидели, что оно улучшилось. Мы сделали вывод, что оценка качества модели является важным этапом в машинном обучении, так как она позволяет выбрать наилучшую модель для решения задачи классификации."
   ],
   "metadata": {
    "collapsed": false
   }
  },
  {
   "cell_type": "code",
   "execution_count": null,
   "outputs": [],
   "source": [],
   "metadata": {
    "collapsed": false
   }
  }
 ],
 "metadata": {
  "kernelspec": {
   "display_name": "Python 3",
   "language": "python",
   "name": "python3"
  },
  "language_info": {
   "codemirror_mode": {
    "name": "ipython",
    "version": 2
   },
   "file_extension": ".py",
   "mimetype": "text/x-python",
   "name": "python",
   "nbconvert_exporter": "python",
   "pygments_lexer": "ipython2",
   "version": "2.7.6"
  }
 },
 "nbformat": 4,
 "nbformat_minor": 0
}
